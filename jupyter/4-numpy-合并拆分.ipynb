{
 "cells": [
  {
   "cell_type": "code",
   "execution_count": 1,
   "id": "ff889619",
   "metadata": {},
   "outputs": [],
   "source": [
    "import numpy as np"
   ]
  },
  {
   "cell_type": "markdown",
   "id": "943a3e1c",
   "metadata": {},
   "source": [
    "# 本节介绍\n",
    "本节课主要学习numpy数组的合并和拆分方法。"
   ]
  },
  {
   "cell_type": "code",
   "execution_count": 18,
   "id": "1fec7a71",
   "metadata": {},
   "outputs": [
    {
     "name": "stdout",
     "output_type": "stream",
     "text": [
      "[[ 0  1  2]\n",
      " [ 3  4  5]\n",
      " [ 6  7  8]\n",
      " [ 9 10 11]] [6 6 6]\n"
     ]
    }
   ],
   "source": [
    "X = np.arange(12).reshape(4, 3)  #* 创建一个3行4列的矩阵\n",
    "a = np.array([6,6,6]) #* 创建一个一维数组\n",
    "print(X,a)"
   ]
  },
  {
   "cell_type": "code",
   "execution_count": 21,
   "id": "33dd681a",
   "metadata": {},
   "outputs": [
    {
     "name": "stdout",
     "output_type": "stream",
     "text": [
      "[[ 0  1  2]\n",
      " [ 3  4  5]\n",
      " [ 6  7  8]\n",
      " [ 9 10 11]\n",
      " [ 6  6  6]]\n",
      "[[ 0  1  2]\n",
      " [ 3  4  5]\n",
      " [ 6  7  8]\n",
      " [ 9 10 11]\n",
      " [ 6  6  6]]\n",
      "[[ 0  1  2  6]\n",
      " [ 3  4  5  6]\n",
      " [ 6  7  8  6]\n",
      " [ 9 10 11  6]]\n"
     ]
    }
   ],
   "source": [
    "#! 重点，将2个数组合并\n",
    "A = np.concatenate((X,a.reshape(1,3))) #* 默认情况下，沿着第0轴（行）合并\n",
    "print(A) #* 查看合并后的结果\n",
    "#! 但是concatenate函数比较复杂，我们可以使用更简单的函数来合并数组\n",
    "print(np.vstack((X,a))) #* 沿着第0轴（行）合并\n",
    "#! 合并时，要求合并的数组在其他轴上的维度必须相同\n",
    "a2 = np.array([6,6,6,6]) #* 创建一个一维数组\n",
    "print(np.hstack((X,a2.reshape(4,1)))) #* 沿着第1轴（列）合并"
   ]
  },
  {
   "cell_type": "markdown",
   "id": "4b595f67",
   "metadata": {},
   "source": [
    "接下来学习拆分操作"
   ]
  },
  {
   "cell_type": "code",
   "execution_count": 27,
   "id": "d03b9d00",
   "metadata": {},
   "outputs": [
    {
     "name": "stdout",
     "output_type": "stream",
     "text": [
      "[[ 0  1  2]\n",
      " [ 3  4  5]\n",
      " [ 6  7  8]\n",
      " [ 9 10 11]]\n"
     ]
    }
   ],
   "source": [
    "print(X) #* 查看X的内容\n"
   ]
  },
  {
   "cell_type": "code",
   "execution_count": 43,
   "id": "6419b9b1",
   "metadata": {},
   "outputs": [
    {
     "name": "stdout",
     "output_type": "stream",
     "text": [
      "按照水平（默认）拆分：\n",
      "[[0 1 2]\n",
      " [3 4 5]\n",
      " [6 7 8]]\n",
      "[[ 9 10 11]]\n",
      "按照垂直拆分：\n",
      "[[ 0  1]\n",
      " [ 3  4]\n",
      " [ 6  7]\n",
      " [ 9 10]]\n",
      "[[ 2]\n",
      " [ 5]\n",
      " [ 8]\n",
      " [11]]\n",
      "使用vsplit函数拆分：\n",
      "[[0 1 2]\n",
      " [3 4 5]\n",
      " [6 7 8]]\n",
      "[[ 9 10 11]]\n",
      "使用hsplit函数拆分：\n",
      "[[ 0  1]\n",
      " [ 3  4]\n",
      " [ 6  7]\n",
      " [ 9 10]]\n",
      "[[ 2]\n",
      " [ 5]\n",
      " [ 8]\n",
      " [11]]\n"
     ]
    }
   ],
   "source": [
    "X1,X2 = np.split(X, [-1]) #* 沿着第0轴（行）拆分,从第-1行开始拆分\n",
    "print(f\"按照水平（默认）拆分：\\n{X1}\\n{X2}\") #* 查看拆分后的结果\n",
    "X1,X2 = np.split(X, [-1], axis=1) #* 沿着第1轴（列）拆分,从第-1列开始拆分\n",
    "print(f\"按照垂直拆分：\\n{X1}\\n{X2}\") #* 查看拆分后的结果\n",
    "#* 也可以使用hsplit和vsplit函数来拆分数组\n",
    "X1,X2 = np.vsplit(X, [-1]) \n",
    "print(f\"使用vsplit函数拆分：\\n{X1}\\n{X2}\") #* 查看拆分后的结果\n",
    "X1,X2 = np.hsplit(X, [-1]) \n",
    "print(f\"使用hsplit函数拆分：\\n{X1}\\n{X2}\") #* 查看拆分后的结果\n"
   ]
  },
  {
   "cell_type": "code",
   "execution_count": 44,
   "id": "8b8f7ba4",
   "metadata": {},
   "outputs": [
    {
     "name": "stdout",
     "output_type": "stream",
     "text": [
      "拆分成多个数组：\n",
      "[[0]\n",
      " [3]\n",
      " [6]\n",
      " [9]]\n",
      "[[ 1]\n",
      " [ 4]\n",
      " [ 7]\n",
      " [10]]\n",
      "[[ 2]\n",
      " [ 5]\n",
      " [ 8]\n",
      " [11]]\n"
     ]
    }
   ],
   "source": [
    "#拆分呈多个数组\n",
    "X1,X2,X3 = np.hsplit(X, [1,2])\n",
    "print(f\"拆分成多个数组：\\n{X1}\\n{X2}\\n{X3}\") #* 查看拆分后的结果"
   ]
  }
 ],
 "metadata": {
  "kernelspec": {
   "display_name": "pyg",
   "language": "python",
   "name": "python3"
  },
  "language_info": {
   "codemirror_mode": {
    "name": "ipython",
    "version": 3
   },
   "file_extension": ".py",
   "mimetype": "text/x-python",
   "name": "python",
   "nbconvert_exporter": "python",
   "pygments_lexer": "ipython3",
   "version": "3.10.14"
  }
 },
 "nbformat": 4,
 "nbformat_minor": 5
}
