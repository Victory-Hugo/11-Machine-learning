{
 "cells": [
  {
   "cell_type": "code",
   "execution_count": 2,
   "id": "05f89f80",
   "metadata": {},
   "outputs": [],
   "source": [
    "import numpy as np"
   ]
  },
  {
   "cell_type": "markdown",
   "id": "c262d729",
   "metadata": {},
   "source": [
    "# 本节学习内容\n",
    "本节主要学习numpy索引的创建方法。"
   ]
  },
  {
   "cell_type": "code",
   "execution_count": 6,
   "id": "f7ca36b8",
   "metadata": {},
   "outputs": [
    {
     "data": {
      "text/plain": [
       "(array([0, 1, 2, 3, 4, 5, 6, 7, 8, 9]),\n",
       " array([[ 0,  1,  2,  3,  4],\n",
       "        [ 5,  6,  7,  8,  9],\n",
       "        [10, 11, 12, 13, 14],\n",
       "        [15, 16, 17, 18, 19]]))"
      ]
     },
     "execution_count": 6,
     "metadata": {},
     "output_type": "execute_result"
    }
   ],
   "source": [
    "# 用小写字母代表一维数组，用大写字母代表矩阵\n",
    "a = np.arange(10) #* 创建一个一维数组，包含0到9的整数\n",
    "A = np.arange(20).reshape(4, 5) #* 创建一个4行5列的矩阵，包含0到19的整数\n",
    "a,A"
   ]
  },
  {
   "cell_type": "code",
   "execution_count": null,
   "id": "734b83e4",
   "metadata": {},
   "outputs": [
    {
     "name": "stdout",
     "output_type": "stream",
     "text": [
      "0\n",
      "9\n",
      "[0 1 2 3 4]\n",
      "[0 1 2 3 4 5 6 7 8 9]\n",
      "[0 2 4 6 8]\n"
     ]
    }
   ],
   "source": [
    "print(a[0]) #* 访问一维数组的第一个元素\n",
    "print(a[-1]) #* 访问一维数组的最后一个元素\n",
    "print(a[0:5]) #* 访问一维数组的前5个元素\n",
    "print(a[:]) #* 访问一维数组的所有元素\n"
   ]
  },
  {
   "cell_type": "code",
   "execution_count": 16,
   "id": "033f4598",
   "metadata": {},
   "outputs": [
    {
     "name": "stdout",
     "output_type": "stream",
     "text": [
      "[0 2 4 6 8]\n",
      "[9 8 7 6 5 4 3 2 1 0]\n"
     ]
    }
   ],
   "source": [
    "#!重点，每隔1个元素取一个\n",
    "print(a[::2]) #* 访问一维数组的所有元素，步长为2\n",
    "print(a[::-1])  #* 访问一维数组的所有元素，步长为-1（逆序）"
   ]
  },
  {
   "cell_type": "code",
   "execution_count": 22,
   "id": "d3d668c7",
   "metadata": {},
   "outputs": [
    {
     "name": "stdout",
     "output_type": "stream",
     "text": [
      "[[ 0  1  2  3  4]\n",
      " [ 5  6  7  8  9]\n",
      " [10 11 12 13 14]\n",
      " [15 16 17 18 19]]\n",
      "0\n",
      "[0 1 2 3 4]\n",
      "[ 0  5 10 15]\n",
      "[[0 1 2]\n",
      " [5 6 7]]\n",
      "[[19 18 17 16 15]\n",
      " [14 13 12 11 10]\n",
      " [ 9  8  7  6  5]\n",
      " [ 4  3  2  1  0]]\n"
     ]
    }
   ],
   "source": [
    "# 矩阵\n",
    "print(A) #* 访问矩阵的第一行\n",
    "print(A[0,0]) #* 访问矩阵的第1行第1列元素\n",
    "print(A[0, :]) #* 访问矩阵的第1行所有列\n",
    "print(A[:, 0]) #* 访问矩阵的所有行第1列\n",
    "print(A[0:2, 0:3]) #* 访问矩阵的前2行前3列\n",
    "print(A[::-1, ::-1]) #* 访问矩阵的所有元素，步长为-1（逆序）"
   ]
  },
  {
   "cell_type": "code",
   "execution_count": 31,
   "id": "c5a25639",
   "metadata": {},
   "outputs": [
    {
     "name": "stdout",
     "output_type": "stream",
     "text": [
      "[[666   1   2   3   4]\n",
      " [  5   6   7   8   9]\n",
      " [ 10  11  12  13  14]\n",
      " [ 15  16  17  18  19]]\n"
     ]
    }
   ],
   "source": [
    "#! 重点，numpy中赋值后，原数组会被修改\n",
    "X = A[:2,:3] #* 访问矩阵的前2行前3列\n",
    "#! 如果修改X，A也会被修改\n",
    "X[0,0] = 666 #* 修改X的第1行第1\n",
    "print(A) #* 查看A的变化\n"
   ]
  },
  {
   "cell_type": "code",
   "execution_count": 33,
   "id": "f6a31584",
   "metadata": {},
   "outputs": [
    {
     "name": "stdout",
     "output_type": "stream",
     "text": [
      "[[666   1   2   3   4]\n",
      " [  5   6   7   8   9]\n",
      " [ 10  11  12  13  14]\n",
      " [ 15  16  17  18  19]]\n"
     ]
    }
   ],
   "source": [
    "#! 如果不想修改原数组，可以使用copy方法\n",
    "X = A[:2,:3].copy() #* 访问矩阵的前2行前3列，并复制一份\n",
    "X[0,0] = 999 #* 修改X的第1行第1\n",
    "print(A) #* 查看A的变化"
   ]
  }
 ],
 "metadata": {
  "kernelspec": {
   "display_name": "pyg",
   "language": "python",
   "name": "python3"
  },
  "language_info": {
   "codemirror_mode": {
    "name": "ipython",
    "version": 3
   },
   "file_extension": ".py",
   "mimetype": "text/x-python",
   "name": "python",
   "nbconvert_exporter": "python",
   "pygments_lexer": "ipython3",
   "version": "3.10.14"
  }
 },
 "nbformat": 4,
 "nbformat_minor": 5
}
