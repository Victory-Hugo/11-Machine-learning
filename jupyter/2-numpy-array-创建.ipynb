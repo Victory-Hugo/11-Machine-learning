{
 "cells": [
  {
   "cell_type": "markdown",
   "id": "de684e8e",
   "metadata": {},
   "source": [
    "![image.png|500](https://picturerealm.oss-cn-chengdu.aliyuncs.com/obsidian/20250312155110516.png)"
   ]
  },
  {
   "cell_type": "code",
   "execution_count": 1,
   "id": "9b6e2d9f",
   "metadata": {},
   "outputs": [],
   "source": [
    "# 首先我们需要理解np.array的基本用法\n",
    "import numpy as np"
   ]
  },
  {
   "cell_type": "code",
   "execution_count": 3,
   "id": "fd105cb4",
   "metadata": {},
   "outputs": [
    {
     "name": "stdout",
     "output_type": "stream",
     "text": [
      "[1 2 3 4 5 6]\n"
     ]
    }
   ],
   "source": [
    "# 创建一维数组\n",
    "a = np.array([1,2,3,4,5,6])\n",
    "print(a)"
   ]
  },
  {
   "cell_type": "code",
   "execution_count": 5,
   "id": "8388edb6",
   "metadata": {},
   "outputs": [
    {
     "name": "stdout",
     "output_type": "stream",
     "text": [
      "[[1 2 3]\n",
      " [4 5 6]]\n"
     ]
    }
   ],
   "source": [
    "# 创建矩阵\n",
    "A = np.array(\n",
    "    [[1,2,3],\n",
    "    [4,5,6]]\n",
    ")\n",
    "print(A)"
   ]
  },
  {
   "cell_type": "code",
   "execution_count": null,
   "id": "0fc6137f",
   "metadata": {},
   "outputs": [
    {
     "data": {
      "text/plain": [
       "(1, 2, (6,), (2, 3), 6, 6, dtype('int64'), dtype('int64'))"
      ]
     },
     "execution_count": 11,
     "metadata": {},
     "output_type": "execute_result"
    }
   ],
   "source": [
    "# 检查看数组的维度\n",
    "a.ndim,A.ndim,a.shape,A.shape,a.size,A.size,a.dtype,A.dtype\n",
    "#* ndim: 数组的维度\n",
    "#* shape: 数组的形状\n",
    "#* size: 数组的元素个数\n",
    "#* dtype: 数组的数据类型"
   ]
  },
  {
   "cell_type": "code",
   "execution_count": 21,
   "id": "54d79813",
   "metadata": {},
   "outputs": [
    {
     "data": {
      "text/plain": [
       "(array([1., 1., 1., 1., 1., 1., 1., 1.]),\n",
       " array([1, 1, 1, 1, 1, 1, 1, 1]),\n",
       " array([1., 1., 1., 1., 1., 1., 1., 1.]),\n",
       " array([[1., 1., 1., 1.],\n",
       "        [1., 1., 1., 1.]]))"
      ]
     },
     "execution_count": 21,
     "metadata": {},
     "output_type": "execute_result"
    }
   ],
   "source": [
    "# 创建全部是1的数组\n",
    "np.ones(8),np.ones(8,dtype = 'int64'),np.ones(8,dtype = 'float64'),np.ones(shape = (2,4))"
   ]
  },
  {
   "cell_type": "code",
   "execution_count": 23,
   "id": "7f3054a3",
   "metadata": {},
   "outputs": [
    {
     "data": {
      "text/plain": [
       "(array([1, 1, 1, 1, 1, 1]),\n",
       " array([[1, 1, 1],\n",
       "        [1, 1, 1]]))"
      ]
     },
     "execution_count": 23,
     "metadata": {},
     "output_type": "execute_result"
    }
   ],
   "source": [
    "# 创建一个形状相同的数组\n",
    "np.ones_like(a),np.ones_like(A)"
   ]
  },
  {
   "cell_type": "code",
   "execution_count": 25,
   "id": "ab49ab44",
   "metadata": {},
   "outputs": [
    {
     "data": {
      "text/plain": [
       "(array([0., 0., 0., 0., 0., 0., 0., 0.]), array([0, 0, 0, 0, 0, 0]))"
      ]
     },
     "execution_count": 25,
     "metadata": {},
     "output_type": "execute_result"
    }
   ],
   "source": [
    "# 创建全部都是0的数组\n",
    "np.zeros(8),np.zeros_like(a)"
   ]
  },
  {
   "cell_type": "code",
   "execution_count": 28,
   "id": "e1698eb4",
   "metadata": {},
   "outputs": [
    {
     "name": "stdout",
     "output_type": "stream",
     "text": [
      "[666 666 666 666 666 666 666 666]\n",
      "[[666 666 666 666]\n",
      " [666 666 666 666]]\n"
     ]
    }
   ],
   "source": [
    "# 指定数值\n",
    "print(np.full(8,666)) #* 创建一个全部是666的数组，一维数组，8个元素\n",
    "print(np.full(shape = (2,4), fill_value = 666)) #* 创建一个2行4列的矩阵，全部是666"
   ]
  },
  {
   "cell_type": "code",
   "execution_count": 46,
   "id": "aa378495",
   "metadata": {},
   "outputs": [
    {
     "name": "stdout",
     "output_type": "stream",
     "text": [
      "[3.29e-321 3.29e-321 3.29e-321 3.29e-321 3.29e-321 3.29e-321 3.29e-321\n",
      " 3.29e-321]\n",
      "[[3.29e-321 3.29e-321 3.29e-321 3.29e-321]\n",
      " [3.29e-321 3.29e-321 3.29e-321 3.29e-321]]\n"
     ]
    }
   ],
   "source": [
    "# 创建空数组\n",
    "print(np.empty(8)) #! 为什么不是0？因为空数组的内容是未初始化的，可能包含任何值\n",
    "print(np.empty((2,4)))\n"
   ]
  },
  {
   "cell_type": "code",
   "execution_count": null,
   "id": "c5f63acc",
   "metadata": {},
   "outputs": [
    {
     "name": "stdout",
     "output_type": "stream",
     "text": [
      "[1 3 5 7 9]\n",
      "[0 1 2 3 4 5 6 7 8 9]\n",
      "[[0 1 2 3 4]\n",
      " [5 6 7 8 9]]\n"
     ]
    }
   ],
   "source": [
    "#重点\n",
    "#!创建等差数组\n",
    "print(np.arange(1,10,2)) #* 从1开始，到10结束，步长为2\n",
    "print(np.arange(10)) #* 从0开始，到9结束\n",
    "print(np.arange(10).reshape(2,5)) #* 从0开始，到9结束，步长为2，重塑为2行5列的矩阵"
   ]
  },
  {
   "cell_type": "code",
   "execution_count": 53,
   "id": "dd6cbbae",
   "metadata": {},
   "outputs": [
    {
     "name": "stdout",
     "output_type": "stream",
     "text": [
      "[ 0.   2.5  5.   7.5 10. ]\n"
     ]
    }
   ],
   "source": [
    "print(np.linspace(0,10,5)) #* 从0到10，生成5个等间距的数"
   ]
  },
  {
   "cell_type": "code",
   "execution_count": 61,
   "id": "e9e09fa7",
   "metadata": {},
   "outputs": [
    {
     "name": "stdout",
     "output_type": "stream",
     "text": [
      "0.5304897022166523\n",
      "[0.2909821  0.8588775  0.67723855]\n",
      "[[0.98930715 0.00856194 0.44526001]\n",
      " [0.68518372 0.4630881  0.81470143]]\n"
     ]
    }
   ],
   "source": [
    "#重点\n",
    "#! 创建随机数\n",
    "print(np.random.random()) #* 生成一个0到1之间的随机数\n",
    "print(np.random.random(3)) #* 生成一个包含3个0到1之间的随机数的一维数组\n",
    "print(np.random.random((2,3))) #* 生成一个2行3列的矩阵，包含0到1之间的随机数"
   ]
  },
  {
   "cell_type": "code",
   "execution_count": 64,
   "id": "7d7777c8",
   "metadata": {},
   "outputs": [
    {
     "name": "stdout",
     "output_type": "stream",
     "text": [
      "0.7608506379724377\n",
      "[[0.39256614 0.13966212 0.31644321]\n",
      " [0.01244878 0.54245457 0.19355982]]\n"
     ]
    }
   ],
   "source": [
    "#! rand和random的区别\n",
    "#! rand和random的不同之处在于，rand是numpy的函数，random是python自带的函数。\n",
    "print(np.random.rand()) #* 生成一个0到1之间的随机数\n",
    "print(np.random.rand(2,3)) #* 生成一个2行3列的矩阵，包含0到1之间的随机数\n"
   ]
  },
  {
   "cell_type": "code",
   "execution_count": 90,
   "id": "49d27d24",
   "metadata": {},
   "outputs": [
    {
     "name": "stdout",
     "output_type": "stream",
     "text": [
      "1\n",
      "9\n",
      "[[6 8 8]\n",
      " [8 8 9]]\n"
     ]
    }
   ],
   "source": [
    "# 创建随机整数\n",
    "print(np.random.randint(5)) #* 生成一个0到5之间的随机整数\n",
    "print(np.random.randint(5,10)) #* 生成一个5到10之间的随机整数\n",
    "print(np.random.randint(5,10,size = (2,3))) #* 生成一个2行3列的矩阵，包含5到10之间的随机整数"
   ]
  },
  {
   "cell_type": "code",
   "execution_count": 91,
   "id": "03c5d551",
   "metadata": {},
   "outputs": [
    {
     "name": "stdout",
     "output_type": "stream",
     "text": [
      "[[8 9 7]\n",
      " [9 9 6]]\n"
     ]
    }
   ],
   "source": [
    "# 随机种子\n",
    "np.random.seed(42) #* 设置随机种子，确保每次运行生成的随机数相同\n",
    "print(np.random.randint(5,10,size = (2,3))) #* 生成一个2行3列的矩阵，包含5到10之间的随机整数"
   ]
  },
  {
   "cell_type": "code",
   "execution_count": 113,
   "id": "54668f81",
   "metadata": {},
   "outputs": [
    {
     "name": "stdout",
     "output_type": "stream",
     "text": [
      "1.392325753491903\n",
      "[ -870.64081853    86.89494858  -483.4324822    933.16260834\n",
      "  1716.60495368   883.58941564    19.14434574  -355.53929683\n",
      "   659.08673263 -1212.87353668   546.33603238  -904.69093126\n",
      "   630.54821596  -150.93737686  -378.26439898  -875.51237383\n",
      "  -346.74502577   566.12179853  1053.86061092   536.44816133]\n",
      "[[ 1373.88652442  2549.16271627  -314.49095783  -195.8667171\n",
      "  -1430.04144768  1200.72725611]\n",
      " [ 1309.39681426  -857.14615605   627.64084551  1227.07079698\n",
      "    236.2882695    857.40143258]\n",
      " [  184.83301199 -1206.85489236  1059.34739232  1335.10566151\n",
      "    744.50106488  -944.49726196]\n",
      " [ -741.17942466 -1120.42805312   779.97735993  1278.3895224\n",
      "    434.48624406   950.53558496]]\n"
     ]
    }
   ],
   "source": [
    "# 正态分布随机数\n",
    "print(np.random.normal()) #* 生成一个正态分布的随机数\n",
    "print(np.random.normal(10,1000,20)) #* 生成一个均值为10，标准差为1000，大小为20的正态分布随机数\n",
    "print(np.random.normal(10,1000,size = (4,6))) #* 生成一个均值为10，标准差为1000，形状为4行6列的正态分布随机数矩阵"
   ]
  },
  {
   "cell_type": "code",
   "execution_count": 123,
   "id": "7b43c990",
   "metadata": {},
   "outputs": [
    {
     "name": "stdout",
     "output_type": "stream",
     "text": [
      "0.936154774160781\n",
      "3.784119186699892\n",
      "[[3.28024468 1.38870598 3.46002891]\n",
      " [4.9602154  1.56033606 3.07331861]]\n"
     ]
    }
   ],
   "source": [
    "# 均匀分布\n",
    "print(np.random.uniform())\n",
    "print(np.random.uniform(1, 5)) #* 生成一个1到5之间的均匀分布随机数\n",
    "print(np.random.uniform(1, 5,size=(2,3))) #* 生成一个2行3列的矩阵，包含1到5之间的均匀分布随机数"
   ]
  }
 ],
 "metadata": {
  "kernelspec": {
   "display_name": "pyg",
   "language": "python",
   "name": "python3"
  },
  "language_info": {
   "codemirror_mode": {
    "name": "ipython",
    "version": 3
   },
   "file_extension": ".py",
   "mimetype": "text/x-python",
   "name": "python",
   "nbconvert_exporter": "python",
   "pygments_lexer": "ipython3",
   "version": "3.10.14"
  }
 },
 "nbformat": 4,
 "nbformat_minor": 5
}
