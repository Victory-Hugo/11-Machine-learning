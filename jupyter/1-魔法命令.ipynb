{
 "cells": [
  {
   "cell_type": "markdown",
   "id": "c48befe8",
   "metadata": {},
   "source": [
    "# 什么是魔法命令？\n",
    "魔法命令是一个特殊的命令格式，通常以 `!` 或者 `%` 开头，用于在某些编程环境或工具中执行特定的操作或脚本。这些命令可以用来快速执行一些常见任务，如运行脚本、查询信息或进行系统操作。"
   ]
  },
  {
   "cell_type": "code",
   "execution_count": 1,
   "id": "ef7568ab",
   "metadata": {},
   "outputs": [
    {
     "name": "stdout",
     "output_type": "stream",
     "text": [
      "Writing ../python/1-test.py\n"
     ]
    }
   ],
   "source": [
    "%%writefile ../python/1-test.py\n",
    "def Test(name):\n",
    "    \"\"\"\n",
    "    This function takes a name as input and prints a greeting message.\n",
    "    \n",
    "    Parameters:\n",
    "    name (str): The name to greet.\n",
    "    \n",
    "    Returns:\n",
    "    None\n",
    "    \"\"\"\n",
    "    print(f\"Hello, {name}!\")\n",
    "# 将当前的格子内容写入到 ../python/1-test.py 文件中"
   ]
  },
  {
   "cell_type": "code",
   "execution_count": 2,
   "id": "40998283",
   "metadata": {},
   "outputs": [
    {
     "name": "stdout",
     "output_type": "stream",
     "text": [
      "\u001b[0;32mdef\u001b[0m \u001b[0mTest\u001b[0m\u001b[0;34m(\u001b[0m\u001b[0mname\u001b[0m\u001b[0;34m)\u001b[0m\u001b[0;34m:\u001b[0m\u001b[0;34m\u001b[0m\n",
      "\u001b[0;34m\u001b[0m    \u001b[0;34m\"\"\"\u001b[0m\n",
      "\u001b[0;34m    This function takes a name as input and prints a greeting message.\u001b[0m\n",
      "\u001b[0;34m    \u001b[0m\n",
      "\u001b[0;34m    Parameters:\u001b[0m\n",
      "\u001b[0;34m    name (str): The name to greet.\u001b[0m\n",
      "\u001b[0;34m    \u001b[0m\n",
      "\u001b[0;34m    Returns:\u001b[0m\n",
      "\u001b[0;34m    None\u001b[0m\n",
      "\u001b[0;34m    \"\"\"\u001b[0m\u001b[0;34m\u001b[0m\n",
      "\u001b[0;34m\u001b[0m    \u001b[0mprint\u001b[0m\u001b[0;34m(\u001b[0m\u001b[0;34mf\"Hello, {name}!\"\u001b[0m\u001b[0;34m)\u001b[0m\u001b[0;34m\u001b[0m\n",
      "\u001b[0;34m\u001b[0m\u001b[0;31m# 将当前的格子内容写入到 ../python/1-test.py 文件中\u001b[0m\u001b[0;34m\u001b[0m\u001b[0;34m\u001b[0m\u001b[0m\n"
     ]
    }
   ],
   "source": [
    "%pycat ../python/1-test.py\n",
    "# 读取 ../python/1-test.py 文件内容并显示"
   ]
  },
  {
   "cell_type": "code",
   "execution_count": 4,
   "id": "db143d21",
   "metadata": {},
   "outputs": [
    {
     "name": "stdout",
     "output_type": "stream",
     "text": [
      "Hello, World!\n"
     ]
    }
   ],
   "source": [
    "%run ../python/1-test.py\n",
    "Test(\"World\")\n",
    "# 运行 ../python/1-test.py 文件中的代码"
   ]
  },
  {
   "cell_type": "code",
   "execution_count": 5,
   "id": "a538b8b2",
   "metadata": {},
   "outputs": [
    {
     "name": "stdout",
     "output_type": "stream",
     "text": [
      "9.33 μs ± 27 ns per loop (mean ± std. dev. of 7 runs, 100,000 loops each)\n"
     ]
    }
   ],
   "source": [
    "%timeit data = [i for i in range(1000)]"
   ]
  },
  {
   "cell_type": "code",
   "execution_count": null,
   "id": "9258c149",
   "metadata": {},
   "outputs": [
    {
     "name": "stdout",
     "output_type": "stream",
     "text": [
      "3.12 μs ± 7.58 ns per loop (mean ± std. dev. of 7 runs, 100,000 loops each)\n"
     ]
    }
   ],
   "source": [
    "%%timeit\n",
    "import numpy as np\n",
    "data = np.random.rand(1000)\n",
    "# 使用 %%timeit 测量代码块的执行时间"
   ]
  },
  {
   "cell_type": "code",
   "execution_count": 8,
   "id": "7303bbec",
   "metadata": {},
   "outputs": [
    {
     "name": "stdout",
     "output_type": "stream",
     "text": [
      "Variable   Type        Data/Info\n",
      "--------------------------------\n",
      "Test       function    <function Test at 0x7f628b167400>\n"
     ]
    }
   ],
   "source": [
    "%whos\n",
    "# 显示当前环境中的变量信息"
   ]
  },
  {
   "cell_type": "code",
   "execution_count": 9,
   "id": "3492f9a9",
   "metadata": {},
   "outputs": [
    {
     "name": "stdout",
     "output_type": "stream",
     "text": [
      "Usage: awk [POSIX or GNU style options] -f progfile [--] file ...\n",
      "Usage: awk [POSIX or GNU style options] [--] 'program' file ...\n",
      "POSIX options:\t\tGNU long options: (standard)\n",
      "\t-f progfile\t\t--file=progfile\n",
      "\t-F fs\t\t\t--field-separator=fs\n",
      "\t-v var=val\t\t--assign=var=val\n",
      "Short options:\t\tGNU long options: (extensions)\n",
      "\t-b\t\t\t--characters-as-bytes\n",
      "\t-c\t\t\t--traditional\n",
      "\t-C\t\t\t--copyright\n",
      "\t-d[file]\t\t--dump-variables[=file]\n",
      "\t-D[file]\t\t--debug[=file]\n",
      "\t-e 'program-text'\t--source='program-text'\n",
      "\t-E file\t\t\t--exec=file\n",
      "\t-g\t\t\t--gen-pot\n",
      "\t-h\t\t\t--help\n",
      "\t-i includefile\t\t--include=includefile\n",
      "\t-I\t\t\t--trace\n",
      "\t-k\t\t\t--csv\n",
      "\t-l library\t\t--load=library\n",
      "\t-L[fatal|invalid|no-ext]\t--lint[=fatal|invalid|no-ext]\n",
      "\t-M\t\t\t--bignum\n",
      "\t-N\t\t\t--use-lc-numeric\n",
      "\t-n\t\t\t--non-decimal-data\n",
      "\t-o[file]\t\t--pretty-print[=file]\n",
      "\t-O\t\t\t--optimize\n",
      "\t-p[file]\t\t--profile[=file]\n",
      "\t-P\t\t\t--posix\n",
      "\t-r\t\t\t--re-interval\n",
      "\t-s\t\t\t--no-optimize\n",
      "\t-S\t\t\t--sandbox\n",
      "\t-t\t\t\t--lint-old\n",
      "\t-V\t\t\t--version\n",
      "\n",
      "To report bugs, use the `gawkbug' program.\n",
      "For full instructions, see the node `Bugs' in `gawk.info'\n",
      "which is section `Reporting Problems and Bugs' in the\n",
      "printed version.  This same information may be found at\n",
      "https://www.gnu.org/software/gawk/manual/html_node/Bugs.html.\n",
      "PLEASE do NOT try to report bugs by posting in comp.lang.awk,\n",
      "or by using a web forum such as Stack Overflow.\n",
      "\n",
      "Source code for gawk may be obtained from\n",
      "https://ftp.gnu.org/gnu/gawk/gawk-5.3.1.tar.gz\n",
      "\n",
      "gawk is a pattern scanning and processing language.\n",
      "By default it reads standard input and writes standard output.\n",
      "\n",
      "Examples:\n",
      "\tawk '{ sum += $1 }; END { print sum }' file\n",
      "\tawk -F: '{ print $1 }' /etc/passwd\n",
      "Usage: grep [OPTION]... PATTERNS [FILE]...\n",
      "Try 'grep --help' for more information.\n",
      "Usage: sed [OPTION]... {script-only-if-no-other-script} [input-file]...\n",
      "\n",
      "  -n, --quiet, --silent\n",
      "                 suppress automatic printing of pattern space\n",
      "      --debug\n",
      "                 annotate program execution\n",
      "  -e script, --expression=script\n",
      "                 add the script to the commands to be executed\n",
      "  -f script-file, --file=script-file\n",
      "                 add the contents of script-file to the commands to be executed\n",
      "  --follow-symlinks\n",
      "                 follow symlinks when processing in place\n",
      "  -i[SUFFIX], --in-place[=SUFFIX]\n",
      "                 edit files in place (makes backup if SUFFIX supplied)\n",
      "  -l N, --line-length=N\n",
      "                 specify the desired line-wrap length for the `l' command\n",
      "  --posix\n",
      "                 disable all GNU extensions.\n",
      "  -E, -r, --regexp-extended\n",
      "                 use extended regular expressions in the script\n",
      "                 (for portability use POSIX -E).\n",
      "  -s, --separate\n",
      "                 consider files as separate rather than as a single,\n",
      "                 continuous long stream.\n",
      "      --sandbox\n",
      "                 operate in sandbox mode (disable e/r/w commands).\n",
      "  -u, --unbuffered\n",
      "                 load minimal amounts of data from the input files and flush\n",
      "                 the output buffers more often\n",
      "  -z, --null-data\n",
      "                 separate lines by NUL characters\n",
      "      --help     display this help and exit\n",
      "      --version  output version information and exit\n",
      "\n",
      "If no -e, --expression, -f, or --file option is given, then the first\n",
      "non-option argument is taken as the sed script to interpret.  All\n",
      "remaining arguments are names of input files; if no input files are\n",
      "specified, then the standard input is read.\n",
      "\n",
      "GNU sed home page: <https://www.gnu.org/software/sed/>.\n",
      "General help using GNU software: <https://www.gnu.org/gethelp/>.\n"
     ]
    }
   ],
   "source": [
    "!awk \n",
    "!grep\n",
    "!sed"
   ]
  }
 ],
 "metadata": {
  "kernelspec": {
   "display_name": "pyg",
   "language": "python",
   "name": "python3"
  },
  "language_info": {
   "codemirror_mode": {
    "name": "ipython",
    "version": 3
   },
   "file_extension": ".py",
   "mimetype": "text/x-python",
   "name": "python",
   "nbconvert_exporter": "python",
   "pygments_lexer": "ipython3",
   "version": "3.10.14"
  }
 },
 "nbformat": 4,
 "nbformat_minor": 5
}
